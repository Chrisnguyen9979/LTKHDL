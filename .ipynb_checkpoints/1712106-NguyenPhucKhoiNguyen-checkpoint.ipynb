{
 "cells": [
  {
   "cell_type": "code",
   "execution_count": 1,
   "metadata": {},
   "outputs": [],
   "source": [
    "import numpy  as np\n",
    "import pandas as pd\n",
    "import seaborn as sns\n",
    "import matplotlib.pyplot as plt\n",
    "import os"
   ]
  },
  {
   "cell_type": "code",
   "execution_count": 2,
   "metadata": {},
   "outputs": [],
   "source": [
    "base_dir = \"data\"\n",
    "df_dir = os.path.join(base_dir, \"Invistico_Airline.csv\")"
   ]
  },
  {
   "cell_type": "code",
   "execution_count": 3,
   "metadata": {},
   "outputs": [
    {
     "name": "stdout",
     "output_type": "stream",
     "text": [
      "Kích thước df:  (129880, 23)\n"
     ]
    }
   ],
   "source": [
    "df = pd.read_csv(df_dir)\n",
    "print(\"Kích thước df: \", df.shape)"
   ]
  },
  {
   "cell_type": "code",
   "execution_count": 4,
   "metadata": {},
   "outputs": [
    {
     "data": {
      "text/html": [
       "<div>\n",
       "<style scoped>\n",
       "    .dataframe tbody tr th:only-of-type {\n",
       "        vertical-align: middle;\n",
       "    }\n",
       "\n",
       "    .dataframe tbody tr th {\n",
       "        vertical-align: top;\n",
       "    }\n",
       "\n",
       "    .dataframe thead th {\n",
       "        text-align: right;\n",
       "    }\n",
       "</style>\n",
       "<table border=\"1\" class=\"dataframe\">\n",
       "  <thead>\n",
       "    <tr style=\"text-align: right;\">\n",
       "      <th></th>\n",
       "      <th>satisfaction</th>\n",
       "      <th>Gender</th>\n",
       "      <th>Customer Type</th>\n",
       "      <th>Age</th>\n",
       "      <th>Type of Travel</th>\n",
       "      <th>Class</th>\n",
       "      <th>Flight Distance</th>\n",
       "      <th>Seat comfort</th>\n",
       "      <th>Departure/Arrival time convenient</th>\n",
       "      <th>Food and drink</th>\n",
       "      <th>...</th>\n",
       "      <th>Online support</th>\n",
       "      <th>Ease of Online booking</th>\n",
       "      <th>On-board service</th>\n",
       "      <th>Leg room service</th>\n",
       "      <th>Baggage handling</th>\n",
       "      <th>Checkin service</th>\n",
       "      <th>Cleanliness</th>\n",
       "      <th>Online boarding</th>\n",
       "      <th>Departure Delay in Minutes</th>\n",
       "      <th>Arrival Delay in Minutes</th>\n",
       "    </tr>\n",
       "  </thead>\n",
       "  <tbody>\n",
       "    <tr>\n",
       "      <th>0</th>\n",
       "      <td>satisfied</td>\n",
       "      <td>Female</td>\n",
       "      <td>Loyal Customer</td>\n",
       "      <td>65</td>\n",
       "      <td>Personal Travel</td>\n",
       "      <td>Eco</td>\n",
       "      <td>265</td>\n",
       "      <td>0</td>\n",
       "      <td>0</td>\n",
       "      <td>0</td>\n",
       "      <td>...</td>\n",
       "      <td>2</td>\n",
       "      <td>3</td>\n",
       "      <td>3</td>\n",
       "      <td>0</td>\n",
       "      <td>3</td>\n",
       "      <td>5</td>\n",
       "      <td>3</td>\n",
       "      <td>2</td>\n",
       "      <td>0</td>\n",
       "      <td>0.0</td>\n",
       "    </tr>\n",
       "    <tr>\n",
       "      <th>1</th>\n",
       "      <td>satisfied</td>\n",
       "      <td>Male</td>\n",
       "      <td>Loyal Customer</td>\n",
       "      <td>47</td>\n",
       "      <td>Personal Travel</td>\n",
       "      <td>Business</td>\n",
       "      <td>2464</td>\n",
       "      <td>0</td>\n",
       "      <td>0</td>\n",
       "      <td>0</td>\n",
       "      <td>...</td>\n",
       "      <td>2</td>\n",
       "      <td>3</td>\n",
       "      <td>4</td>\n",
       "      <td>4</td>\n",
       "      <td>4</td>\n",
       "      <td>2</td>\n",
       "      <td>3</td>\n",
       "      <td>2</td>\n",
       "      <td>310</td>\n",
       "      <td>305.0</td>\n",
       "    </tr>\n",
       "    <tr>\n",
       "      <th>2</th>\n",
       "      <td>satisfied</td>\n",
       "      <td>Female</td>\n",
       "      <td>Loyal Customer</td>\n",
       "      <td>15</td>\n",
       "      <td>Personal Travel</td>\n",
       "      <td>Eco</td>\n",
       "      <td>2138</td>\n",
       "      <td>0</td>\n",
       "      <td>0</td>\n",
       "      <td>0</td>\n",
       "      <td>...</td>\n",
       "      <td>2</td>\n",
       "      <td>2</td>\n",
       "      <td>3</td>\n",
       "      <td>3</td>\n",
       "      <td>4</td>\n",
       "      <td>4</td>\n",
       "      <td>4</td>\n",
       "      <td>2</td>\n",
       "      <td>0</td>\n",
       "      <td>0.0</td>\n",
       "    </tr>\n",
       "    <tr>\n",
       "      <th>3</th>\n",
       "      <td>satisfied</td>\n",
       "      <td>Female</td>\n",
       "      <td>Loyal Customer</td>\n",
       "      <td>60</td>\n",
       "      <td>Personal Travel</td>\n",
       "      <td>Eco</td>\n",
       "      <td>623</td>\n",
       "      <td>0</td>\n",
       "      <td>0</td>\n",
       "      <td>0</td>\n",
       "      <td>...</td>\n",
       "      <td>3</td>\n",
       "      <td>1</td>\n",
       "      <td>1</td>\n",
       "      <td>0</td>\n",
       "      <td>1</td>\n",
       "      <td>4</td>\n",
       "      <td>1</td>\n",
       "      <td>3</td>\n",
       "      <td>0</td>\n",
       "      <td>0.0</td>\n",
       "    </tr>\n",
       "    <tr>\n",
       "      <th>4</th>\n",
       "      <td>satisfied</td>\n",
       "      <td>Female</td>\n",
       "      <td>Loyal Customer</td>\n",
       "      <td>70</td>\n",
       "      <td>Personal Travel</td>\n",
       "      <td>Eco</td>\n",
       "      <td>354</td>\n",
       "      <td>0</td>\n",
       "      <td>0</td>\n",
       "      <td>0</td>\n",
       "      <td>...</td>\n",
       "      <td>4</td>\n",
       "      <td>2</td>\n",
       "      <td>2</td>\n",
       "      <td>0</td>\n",
       "      <td>2</td>\n",
       "      <td>4</td>\n",
       "      <td>2</td>\n",
       "      <td>5</td>\n",
       "      <td>0</td>\n",
       "      <td>0.0</td>\n",
       "    </tr>\n",
       "    <tr>\n",
       "      <th>5</th>\n",
       "      <td>satisfied</td>\n",
       "      <td>Male</td>\n",
       "      <td>Loyal Customer</td>\n",
       "      <td>30</td>\n",
       "      <td>Personal Travel</td>\n",
       "      <td>Eco</td>\n",
       "      <td>1894</td>\n",
       "      <td>0</td>\n",
       "      <td>0</td>\n",
       "      <td>0</td>\n",
       "      <td>...</td>\n",
       "      <td>2</td>\n",
       "      <td>2</td>\n",
       "      <td>5</td>\n",
       "      <td>4</td>\n",
       "      <td>5</td>\n",
       "      <td>5</td>\n",
       "      <td>4</td>\n",
       "      <td>2</td>\n",
       "      <td>0</td>\n",
       "      <td>0.0</td>\n",
       "    </tr>\n",
       "    <tr>\n",
       "      <th>6</th>\n",
       "      <td>satisfied</td>\n",
       "      <td>Female</td>\n",
       "      <td>Loyal Customer</td>\n",
       "      <td>66</td>\n",
       "      <td>Personal Travel</td>\n",
       "      <td>Eco</td>\n",
       "      <td>227</td>\n",
       "      <td>0</td>\n",
       "      <td>0</td>\n",
       "      <td>0</td>\n",
       "      <td>...</td>\n",
       "      <td>5</td>\n",
       "      <td>5</td>\n",
       "      <td>5</td>\n",
       "      <td>0</td>\n",
       "      <td>5</td>\n",
       "      <td>5</td>\n",
       "      <td>5</td>\n",
       "      <td>3</td>\n",
       "      <td>17</td>\n",
       "      <td>15.0</td>\n",
       "    </tr>\n",
       "    <tr>\n",
       "      <th>7</th>\n",
       "      <td>satisfied</td>\n",
       "      <td>Male</td>\n",
       "      <td>Loyal Customer</td>\n",
       "      <td>10</td>\n",
       "      <td>Personal Travel</td>\n",
       "      <td>Eco</td>\n",
       "      <td>1812</td>\n",
       "      <td>0</td>\n",
       "      <td>0</td>\n",
       "      <td>0</td>\n",
       "      <td>...</td>\n",
       "      <td>2</td>\n",
       "      <td>2</td>\n",
       "      <td>3</td>\n",
       "      <td>3</td>\n",
       "      <td>4</td>\n",
       "      <td>5</td>\n",
       "      <td>4</td>\n",
       "      <td>2</td>\n",
       "      <td>0</td>\n",
       "      <td>0.0</td>\n",
       "    </tr>\n",
       "    <tr>\n",
       "      <th>8</th>\n",
       "      <td>satisfied</td>\n",
       "      <td>Female</td>\n",
       "      <td>Loyal Customer</td>\n",
       "      <td>56</td>\n",
       "      <td>Personal Travel</td>\n",
       "      <td>Business</td>\n",
       "      <td>73</td>\n",
       "      <td>0</td>\n",
       "      <td>0</td>\n",
       "      <td>0</td>\n",
       "      <td>...</td>\n",
       "      <td>5</td>\n",
       "      <td>4</td>\n",
       "      <td>4</td>\n",
       "      <td>0</td>\n",
       "      <td>1</td>\n",
       "      <td>5</td>\n",
       "      <td>4</td>\n",
       "      <td>4</td>\n",
       "      <td>0</td>\n",
       "      <td>0.0</td>\n",
       "    </tr>\n",
       "    <tr>\n",
       "      <th>9</th>\n",
       "      <td>satisfied</td>\n",
       "      <td>Male</td>\n",
       "      <td>Loyal Customer</td>\n",
       "      <td>22</td>\n",
       "      <td>Personal Travel</td>\n",
       "      <td>Eco</td>\n",
       "      <td>1556</td>\n",
       "      <td>0</td>\n",
       "      <td>0</td>\n",
       "      <td>0</td>\n",
       "      <td>...</td>\n",
       "      <td>2</td>\n",
       "      <td>2</td>\n",
       "      <td>2</td>\n",
       "      <td>4</td>\n",
       "      <td>5</td>\n",
       "      <td>3</td>\n",
       "      <td>4</td>\n",
       "      <td>2</td>\n",
       "      <td>30</td>\n",
       "      <td>26.0</td>\n",
       "    </tr>\n",
       "  </tbody>\n",
       "</table>\n",
       "<p>10 rows × 23 columns</p>\n",
       "</div>"
      ],
      "text/plain": [
       "  satisfaction  Gender   Customer Type  Age   Type of Travel     Class  \\\n",
       "0    satisfied  Female  Loyal Customer   65  Personal Travel       Eco   \n",
       "1    satisfied    Male  Loyal Customer   47  Personal Travel  Business   \n",
       "2    satisfied  Female  Loyal Customer   15  Personal Travel       Eco   \n",
       "3    satisfied  Female  Loyal Customer   60  Personal Travel       Eco   \n",
       "4    satisfied  Female  Loyal Customer   70  Personal Travel       Eco   \n",
       "5    satisfied    Male  Loyal Customer   30  Personal Travel       Eco   \n",
       "6    satisfied  Female  Loyal Customer   66  Personal Travel       Eco   \n",
       "7    satisfied    Male  Loyal Customer   10  Personal Travel       Eco   \n",
       "8    satisfied  Female  Loyal Customer   56  Personal Travel  Business   \n",
       "9    satisfied    Male  Loyal Customer   22  Personal Travel       Eco   \n",
       "\n",
       "   Flight Distance  Seat comfort  Departure/Arrival time convenient  \\\n",
       "0              265             0                                  0   \n",
       "1             2464             0                                  0   \n",
       "2             2138             0                                  0   \n",
       "3              623             0                                  0   \n",
       "4              354             0                                  0   \n",
       "5             1894             0                                  0   \n",
       "6              227             0                                  0   \n",
       "7             1812             0                                  0   \n",
       "8               73             0                                  0   \n",
       "9             1556             0                                  0   \n",
       "\n",
       "   Food and drink  ...  Online support  Ease of Online booking  \\\n",
       "0               0  ...               2                       3   \n",
       "1               0  ...               2                       3   \n",
       "2               0  ...               2                       2   \n",
       "3               0  ...               3                       1   \n",
       "4               0  ...               4                       2   \n",
       "5               0  ...               2                       2   \n",
       "6               0  ...               5                       5   \n",
       "7               0  ...               2                       2   \n",
       "8               0  ...               5                       4   \n",
       "9               0  ...               2                       2   \n",
       "\n",
       "   On-board service  Leg room service  Baggage handling  Checkin service  \\\n",
       "0                 3                 0                 3                5   \n",
       "1                 4                 4                 4                2   \n",
       "2                 3                 3                 4                4   \n",
       "3                 1                 0                 1                4   \n",
       "4                 2                 0                 2                4   \n",
       "5                 5                 4                 5                5   \n",
       "6                 5                 0                 5                5   \n",
       "7                 3                 3                 4                5   \n",
       "8                 4                 0                 1                5   \n",
       "9                 2                 4                 5                3   \n",
       "\n",
       "   Cleanliness  Online boarding  Departure Delay in Minutes  \\\n",
       "0            3                2                           0   \n",
       "1            3                2                         310   \n",
       "2            4                2                           0   \n",
       "3            1                3                           0   \n",
       "4            2                5                           0   \n",
       "5            4                2                           0   \n",
       "6            5                3                          17   \n",
       "7            4                2                           0   \n",
       "8            4                4                           0   \n",
       "9            4                2                          30   \n",
       "\n",
       "   Arrival Delay in Minutes  \n",
       "0                       0.0  \n",
       "1                     305.0  \n",
       "2                       0.0  \n",
       "3                       0.0  \n",
       "4                       0.0  \n",
       "5                       0.0  \n",
       "6                      15.0  \n",
       "7                       0.0  \n",
       "8                       0.0  \n",
       "9                      26.0  \n",
       "\n",
       "[10 rows x 23 columns]"
      ]
     },
     "execution_count": 4,
     "metadata": {},
     "output_type": "execute_result"
    }
   ],
   "source": [
    "df.head(10)"
   ]
  },
  {
   "cell_type": "markdown",
   "metadata": {},
   "source": [
    "## 1. Lấy dữ liệu"
   ]
  },
  {
   "cell_type": "markdown",
   "metadata": {},
   "source": [
    "Dữ liệu về độ hài lòng về dịch vụ hàng không được lấy từ khảo sát khác hàng của một công ty hàng không.\n",
    "\n",
    "Nguồn: https://www.kaggle.com/sjleshrac/airlines-customer-satisfaction\n",
    "\n",
    "License CC0: Public Domain\n",
    "\n",
    "Dữ liệu được thu thập thông qua khảo sát đánh giá của khách hàng sử dụng dịch vụ."
   ]
  },
  {
   "cell_type": "markdown",
   "metadata": {},
   "source": [
    "## 2. Khám phá dữ liệu"
   ]
  },
  {
   "cell_type": "markdown",
   "metadata": {},
   "source": [
    "#### Kích thước dữ liệu"
   ]
  },
  {
   "cell_type": "code",
   "execution_count": 5,
   "metadata": {},
   "outputs": [
    {
     "name": "stdout",
     "output_type": "stream",
     "text": [
      "Số dòng:  129880\n",
      "Số cột:  23\n"
     ]
    }
   ],
   "source": [
    "print(\"Số dòng: \", df.shape[0])\n",
    "print(\"Số cột: \",  df.shape[1])"
   ]
  },
  {
   "cell_type": "markdown",
   "metadata": {},
   "source": [
    "#### Xét theo dòng"
   ]
  },
  {
   "cell_type": "code",
   "execution_count": 6,
   "metadata": {},
   "outputs": [
    {
     "data": {
      "text/plain": [
       "satisfaction                               satisfied\n",
       "Gender                                        Female\n",
       "Customer Type                         Loyal Customer\n",
       "Age                                               65\n",
       "Type of Travel                       Personal Travel\n",
       "Class                                            Eco\n",
       "Flight Distance                                  265\n",
       "Seat comfort                                       0\n",
       "Departure/Arrival time convenient                  0\n",
       "Food and drink                                     0\n",
       "Gate location                                      2\n",
       "Inflight wifi service                              2\n",
       "Inflight entertainment                             4\n",
       "Online support                                     2\n",
       "Ease of Online booking                             3\n",
       "On-board service                                   3\n",
       "Leg room service                                   0\n",
       "Baggage handling                                   3\n",
       "Checkin service                                    5\n",
       "Cleanliness                                        3\n",
       "Online boarding                                    2\n",
       "Departure Delay in Minutes                         0\n",
       "Arrival Delay in Minutes                           0\n",
       "Name: 0, dtype: object"
      ]
     },
     "execution_count": 6,
     "metadata": {},
     "output_type": "execute_result"
    }
   ],
   "source": [
    "df.iloc[0, :]"
   ]
  },
  {
   "cell_type": "markdown",
   "metadata": {},
   "source": [
    "Mỗi dòng là kết quả khảo sát chuyến bay của một hành khách\n",
    "\n",
    "Các thông tin trên một dòng bao gồm \n",
    "+ độ hài lòng của khách hàng\n",
    "+ Giới tính khách hàng \n",
    "+ Loại khách hàng\n",
    "+ Tuổi\n",
    "+ Loại chuyến đi\n",
    "+ Dịch vụ \n",
    "+ Khoảng cách di chuyển\n",
    "+ Độ thoải mái ghế ngồi\n",
    "+ Thuận tiện thời gian đến/đi\n",
    "+ Đồ ăn/uống\n",
    "+ Địa điểm cổng\n",
    "+ Wifi\n",
    "+ Giải trí trên chuyến bay\n",
    "+ Hỗ trợ trực tuyến\n",
    "+ Đặt vé trực tuyến\n",
    "+ Dịch vụ tại chỗ\n",
    "+ Chỗ để chân\n",
    "+ Hành lý\n",
    "+ Checkin\n",
    "+ Vệ sinh\n",
    "+ Checkin trực tuyến\n",
    "+ Độ trễ cất cánh\n",
    "+ Độ trễ hạ cánh. "
   ]
  },
  {
   "cell_type": "markdown",
   "metadata": {},
   "source": [
    "#### Xét theo cột"
   ]
  },
  {
   "cell_type": "code",
   "execution_count": 7,
   "metadata": {},
   "outputs": [
    {
     "name": "stdout",
     "output_type": "stream",
     "text": [
      "<class 'pandas.core.frame.DataFrame'>\n",
      "RangeIndex: 129880 entries, 0 to 129879\n",
      "Data columns (total 23 columns):\n",
      " #   Column                             Non-Null Count   Dtype  \n",
      "---  ------                             --------------   -----  \n",
      " 0   satisfaction                       129880 non-null  object \n",
      " 1   Gender                             129880 non-null  object \n",
      " 2   Customer Type                      129880 non-null  object \n",
      " 3   Age                                129880 non-null  int64  \n",
      " 4   Type of Travel                     129880 non-null  object \n",
      " 5   Class                              129880 non-null  object \n",
      " 6   Flight Distance                    129880 non-null  int64  \n",
      " 7   Seat comfort                       129880 non-null  int64  \n",
      " 8   Departure/Arrival time convenient  129880 non-null  int64  \n",
      " 9   Food and drink                     129880 non-null  int64  \n",
      " 10  Gate location                      129880 non-null  int64  \n",
      " 11  Inflight wifi service              129880 non-null  int64  \n",
      " 12  Inflight entertainment             129880 non-null  int64  \n",
      " 13  Online support                     129880 non-null  int64  \n",
      " 14  Ease of Online booking             129880 non-null  int64  \n",
      " 15  On-board service                   129880 non-null  int64  \n",
      " 16  Leg room service                   129880 non-null  int64  \n",
      " 17  Baggage handling                   129880 non-null  int64  \n",
      " 18  Checkin service                    129880 non-null  int64  \n",
      " 19  Cleanliness                        129880 non-null  int64  \n",
      " 20  Online boarding                    129880 non-null  int64  \n",
      " 21  Departure Delay in Minutes         129880 non-null  int64  \n",
      " 22  Arrival Delay in Minutes           129487 non-null  float64\n",
      "dtypes: float64(1), int64(17), object(5)\n",
      "memory usage: 22.8+ MB\n"
     ]
    }
   ],
   "source": [
    "df.info()"
   ]
  },
  {
   "cell_type": "markdown",
   "metadata": {},
   "source": [
    "Hầu hết các cột đều có dữ liệu int64, có 5 cột có dữ liệu dạng object, 1 cột có dữ liệu dạng float64.\n",
    "\n",
    "Lưu ý: cột 21 và 22 có ý nghĩa tương tự nhau nhưng lại được lưu với 2 kiểu dữ liệu khác nhau, cột 22 có giá trị null."
   ]
  },
  {
   "cell_type": "markdown",
   "metadata": {},
   "source": [
    "##### Các cột giá trị số"
   ]
  },
  {
   "cell_type": "code",
   "execution_count": 8,
   "metadata": {},
   "outputs": [
    {
     "data": {
      "text/html": [
       "<div>\n",
       "<style scoped>\n",
       "    .dataframe tbody tr th:only-of-type {\n",
       "        vertical-align: middle;\n",
       "    }\n",
       "\n",
       "    .dataframe tbody tr th {\n",
       "        vertical-align: top;\n",
       "    }\n",
       "\n",
       "    .dataframe thead th {\n",
       "        text-align: right;\n",
       "    }\n",
       "</style>\n",
       "<table border=\"1\" class=\"dataframe\">\n",
       "  <thead>\n",
       "    <tr style=\"text-align: right;\">\n",
       "      <th></th>\n",
       "      <th>Age</th>\n",
       "      <th>Flight Distance</th>\n",
       "      <th>Seat comfort</th>\n",
       "      <th>Departure/Arrival time convenient</th>\n",
       "      <th>Food and drink</th>\n",
       "      <th>Gate location</th>\n",
       "      <th>Inflight wifi service</th>\n",
       "      <th>Inflight entertainment</th>\n",
       "      <th>Online support</th>\n",
       "      <th>Ease of Online booking</th>\n",
       "      <th>On-board service</th>\n",
       "      <th>Leg room service</th>\n",
       "      <th>Baggage handling</th>\n",
       "      <th>Checkin service</th>\n",
       "      <th>Cleanliness</th>\n",
       "      <th>Online boarding</th>\n",
       "      <th>Departure Delay in Minutes</th>\n",
       "      <th>Arrival Delay in Minutes</th>\n",
       "    </tr>\n",
       "  </thead>\n",
       "  <tbody>\n",
       "    <tr>\n",
       "      <th>count</th>\n",
       "      <td>129880.000000</td>\n",
       "      <td>129880.000000</td>\n",
       "      <td>129880.000000</td>\n",
       "      <td>129880.000000</td>\n",
       "      <td>129880.000000</td>\n",
       "      <td>129880.000000</td>\n",
       "      <td>129880.000000</td>\n",
       "      <td>129880.000000</td>\n",
       "      <td>129880.000000</td>\n",
       "      <td>129880.000000</td>\n",
       "      <td>129880.000000</td>\n",
       "      <td>129880.000000</td>\n",
       "      <td>129880.000000</td>\n",
       "      <td>129880.000000</td>\n",
       "      <td>129880.000000</td>\n",
       "      <td>129880.000000</td>\n",
       "      <td>129880.000000</td>\n",
       "      <td>129487.000000</td>\n",
       "    </tr>\n",
       "    <tr>\n",
       "      <th>mean</th>\n",
       "      <td>39.427957</td>\n",
       "      <td>1981.409055</td>\n",
       "      <td>2.838597</td>\n",
       "      <td>2.990645</td>\n",
       "      <td>2.851994</td>\n",
       "      <td>2.990422</td>\n",
       "      <td>3.249130</td>\n",
       "      <td>3.383477</td>\n",
       "      <td>3.519703</td>\n",
       "      <td>3.472105</td>\n",
       "      <td>3.465075</td>\n",
       "      <td>3.485902</td>\n",
       "      <td>3.695673</td>\n",
       "      <td>3.340807</td>\n",
       "      <td>3.705759</td>\n",
       "      <td>3.352587</td>\n",
       "      <td>14.713713</td>\n",
       "      <td>15.091129</td>\n",
       "    </tr>\n",
       "    <tr>\n",
       "      <th>std</th>\n",
       "      <td>15.119360</td>\n",
       "      <td>1027.115606</td>\n",
       "      <td>1.392983</td>\n",
       "      <td>1.527224</td>\n",
       "      <td>1.443729</td>\n",
       "      <td>1.305970</td>\n",
       "      <td>1.318818</td>\n",
       "      <td>1.346059</td>\n",
       "      <td>1.306511</td>\n",
       "      <td>1.305560</td>\n",
       "      <td>1.270836</td>\n",
       "      <td>1.292226</td>\n",
       "      <td>1.156483</td>\n",
       "      <td>1.260582</td>\n",
       "      <td>1.151774</td>\n",
       "      <td>1.298715</td>\n",
       "      <td>38.071126</td>\n",
       "      <td>38.465650</td>\n",
       "    </tr>\n",
       "    <tr>\n",
       "      <th>min</th>\n",
       "      <td>7.000000</td>\n",
       "      <td>50.000000</td>\n",
       "      <td>0.000000</td>\n",
       "      <td>0.000000</td>\n",
       "      <td>0.000000</td>\n",
       "      <td>0.000000</td>\n",
       "      <td>0.000000</td>\n",
       "      <td>0.000000</td>\n",
       "      <td>0.000000</td>\n",
       "      <td>0.000000</td>\n",
       "      <td>0.000000</td>\n",
       "      <td>0.000000</td>\n",
       "      <td>1.000000</td>\n",
       "      <td>0.000000</td>\n",
       "      <td>0.000000</td>\n",
       "      <td>0.000000</td>\n",
       "      <td>0.000000</td>\n",
       "      <td>0.000000</td>\n",
       "    </tr>\n",
       "    <tr>\n",
       "      <th>25%</th>\n",
       "      <td>27.000000</td>\n",
       "      <td>1359.000000</td>\n",
       "      <td>2.000000</td>\n",
       "      <td>2.000000</td>\n",
       "      <td>2.000000</td>\n",
       "      <td>2.000000</td>\n",
       "      <td>2.000000</td>\n",
       "      <td>2.000000</td>\n",
       "      <td>3.000000</td>\n",
       "      <td>2.000000</td>\n",
       "      <td>3.000000</td>\n",
       "      <td>2.000000</td>\n",
       "      <td>3.000000</td>\n",
       "      <td>3.000000</td>\n",
       "      <td>3.000000</td>\n",
       "      <td>2.000000</td>\n",
       "      <td>0.000000</td>\n",
       "      <td>0.000000</td>\n",
       "    </tr>\n",
       "    <tr>\n",
       "      <th>50%</th>\n",
       "      <td>40.000000</td>\n",
       "      <td>1925.000000</td>\n",
       "      <td>3.000000</td>\n",
       "      <td>3.000000</td>\n",
       "      <td>3.000000</td>\n",
       "      <td>3.000000</td>\n",
       "      <td>3.000000</td>\n",
       "      <td>4.000000</td>\n",
       "      <td>4.000000</td>\n",
       "      <td>4.000000</td>\n",
       "      <td>4.000000</td>\n",
       "      <td>4.000000</td>\n",
       "      <td>4.000000</td>\n",
       "      <td>3.000000</td>\n",
       "      <td>4.000000</td>\n",
       "      <td>4.000000</td>\n",
       "      <td>0.000000</td>\n",
       "      <td>0.000000</td>\n",
       "    </tr>\n",
       "    <tr>\n",
       "      <th>75%</th>\n",
       "      <td>51.000000</td>\n",
       "      <td>2544.000000</td>\n",
       "      <td>4.000000</td>\n",
       "      <td>4.000000</td>\n",
       "      <td>4.000000</td>\n",
       "      <td>4.000000</td>\n",
       "      <td>4.000000</td>\n",
       "      <td>4.000000</td>\n",
       "      <td>5.000000</td>\n",
       "      <td>5.000000</td>\n",
       "      <td>4.000000</td>\n",
       "      <td>5.000000</td>\n",
       "      <td>5.000000</td>\n",
       "      <td>4.000000</td>\n",
       "      <td>5.000000</td>\n",
       "      <td>4.000000</td>\n",
       "      <td>12.000000</td>\n",
       "      <td>13.000000</td>\n",
       "    </tr>\n",
       "    <tr>\n",
       "      <th>max</th>\n",
       "      <td>85.000000</td>\n",
       "      <td>6951.000000</td>\n",
       "      <td>5.000000</td>\n",
       "      <td>5.000000</td>\n",
       "      <td>5.000000</td>\n",
       "      <td>5.000000</td>\n",
       "      <td>5.000000</td>\n",
       "      <td>5.000000</td>\n",
       "      <td>5.000000</td>\n",
       "      <td>5.000000</td>\n",
       "      <td>5.000000</td>\n",
       "      <td>5.000000</td>\n",
       "      <td>5.000000</td>\n",
       "      <td>5.000000</td>\n",
       "      <td>5.000000</td>\n",
       "      <td>5.000000</td>\n",
       "      <td>1592.000000</td>\n",
       "      <td>1584.000000</td>\n",
       "    </tr>\n",
       "  </tbody>\n",
       "</table>\n",
       "</div>"
      ],
      "text/plain": [
       "                 Age  Flight Distance   Seat comfort  \\\n",
       "count  129880.000000    129880.000000  129880.000000   \n",
       "mean       39.427957      1981.409055       2.838597   \n",
       "std        15.119360      1027.115606       1.392983   \n",
       "min         7.000000        50.000000       0.000000   \n",
       "25%        27.000000      1359.000000       2.000000   \n",
       "50%        40.000000      1925.000000       3.000000   \n",
       "75%        51.000000      2544.000000       4.000000   \n",
       "max        85.000000      6951.000000       5.000000   \n",
       "\n",
       "       Departure/Arrival time convenient  Food and drink  Gate location  \\\n",
       "count                      129880.000000   129880.000000  129880.000000   \n",
       "mean                            2.990645        2.851994       2.990422   \n",
       "std                             1.527224        1.443729       1.305970   \n",
       "min                             0.000000        0.000000       0.000000   \n",
       "25%                             2.000000        2.000000       2.000000   \n",
       "50%                             3.000000        3.000000       3.000000   \n",
       "75%                             4.000000        4.000000       4.000000   \n",
       "max                             5.000000        5.000000       5.000000   \n",
       "\n",
       "       Inflight wifi service  Inflight entertainment  Online support  \\\n",
       "count          129880.000000           129880.000000   129880.000000   \n",
       "mean                3.249130                3.383477        3.519703   \n",
       "std                 1.318818                1.346059        1.306511   \n",
       "min                 0.000000                0.000000        0.000000   \n",
       "25%                 2.000000                2.000000        3.000000   \n",
       "50%                 3.000000                4.000000        4.000000   \n",
       "75%                 4.000000                4.000000        5.000000   \n",
       "max                 5.000000                5.000000        5.000000   \n",
       "\n",
       "       Ease of Online booking  On-board service  Leg room service  \\\n",
       "count           129880.000000     129880.000000     129880.000000   \n",
       "mean                 3.472105          3.465075          3.485902   \n",
       "std                  1.305560          1.270836          1.292226   \n",
       "min                  0.000000          0.000000          0.000000   \n",
       "25%                  2.000000          3.000000          2.000000   \n",
       "50%                  4.000000          4.000000          4.000000   \n",
       "75%                  5.000000          4.000000          5.000000   \n",
       "max                  5.000000          5.000000          5.000000   \n",
       "\n",
       "       Baggage handling  Checkin service    Cleanliness  Online boarding  \\\n",
       "count     129880.000000    129880.000000  129880.000000    129880.000000   \n",
       "mean           3.695673         3.340807       3.705759         3.352587   \n",
       "std            1.156483         1.260582       1.151774         1.298715   \n",
       "min            1.000000         0.000000       0.000000         0.000000   \n",
       "25%            3.000000         3.000000       3.000000         2.000000   \n",
       "50%            4.000000         3.000000       4.000000         4.000000   \n",
       "75%            5.000000         4.000000       5.000000         4.000000   \n",
       "max            5.000000         5.000000       5.000000         5.000000   \n",
       "\n",
       "       Departure Delay in Minutes  Arrival Delay in Minutes  \n",
       "count               129880.000000             129487.000000  \n",
       "mean                    14.713713                 15.091129  \n",
       "std                     38.071126                 38.465650  \n",
       "min                      0.000000                  0.000000  \n",
       "25%                      0.000000                  0.000000  \n",
       "50%                      0.000000                  0.000000  \n",
       "75%                     12.000000                 13.000000  \n",
       "max                   1592.000000               1584.000000  "
      ]
     },
     "execution_count": 8,
     "metadata": {},
     "output_type": "execute_result"
    }
   ],
   "source": [
    "df.describe()"
   ]
  },
  {
   "cell_type": "markdown",
   "metadata": {},
   "source": [
    "Xét các dữ liệu số:\n",
    "\n",
    "+ Các cột về mức độ hài lòng về các mặt của khách hàng đều có kiểu giá trị int64, được đánh số từ 0-5.\n",
    "\n",
    "+ Tuổi của hành khách nhỏ nhất là 7, lớn nhất là 85, trung bình 39-40 tuổi.\n",
    "\n",
    "+ Khoảng cách bay nhỏ nhất là 50 dv, lớn nhất là hơn 6500 dv, đơn vị đo khoảng cách không được nêu ở nguồn của dữ liệu.\n",
    "\n",
    "+ 2 cột cuối có giá trị khá tương đồng nhau (do trễ cất cánh thường kéo theo trễ hạ cánh)"
   ]
  },
  {
   "cell_type": "markdown",
   "metadata": {},
   "source": [
    "##### Các cột giá trị object"
   ]
  },
  {
   "cell_type": "code",
   "execution_count": 9,
   "metadata": {},
   "outputs": [
    {
     "data": {
      "text/html": [
       "<div>\n",
       "<style scoped>\n",
       "    .dataframe tbody tr th:only-of-type {\n",
       "        vertical-align: middle;\n",
       "    }\n",
       "\n",
       "    .dataframe tbody tr th {\n",
       "        vertical-align: top;\n",
       "    }\n",
       "\n",
       "    .dataframe thead th {\n",
       "        text-align: right;\n",
       "    }\n",
       "</style>\n",
       "<table border=\"1\" class=\"dataframe\">\n",
       "  <thead>\n",
       "    <tr style=\"text-align: right;\">\n",
       "      <th></th>\n",
       "      <th>satisfaction</th>\n",
       "      <th>Gender</th>\n",
       "      <th>Customer Type</th>\n",
       "      <th>Type of Travel</th>\n",
       "      <th>Class</th>\n",
       "    </tr>\n",
       "  </thead>\n",
       "  <tbody>\n",
       "    <tr>\n",
       "      <th>count</th>\n",
       "      <td>129880</td>\n",
       "      <td>129880</td>\n",
       "      <td>129880</td>\n",
       "      <td>129880</td>\n",
       "      <td>129880</td>\n",
       "    </tr>\n",
       "    <tr>\n",
       "      <th>unique</th>\n",
       "      <td>2</td>\n",
       "      <td>2</td>\n",
       "      <td>2</td>\n",
       "      <td>2</td>\n",
       "      <td>3</td>\n",
       "    </tr>\n",
       "    <tr>\n",
       "      <th>top</th>\n",
       "      <td>satisfied</td>\n",
       "      <td>Female</td>\n",
       "      <td>Loyal Customer</td>\n",
       "      <td>Business travel</td>\n",
       "      <td>Business</td>\n",
       "    </tr>\n",
       "    <tr>\n",
       "      <th>freq</th>\n",
       "      <td>71087</td>\n",
       "      <td>65899</td>\n",
       "      <td>106100</td>\n",
       "      <td>89693</td>\n",
       "      <td>62160</td>\n",
       "    </tr>\n",
       "  </tbody>\n",
       "</table>\n",
       "</div>"
      ],
      "text/plain": [
       "       satisfaction  Gender   Customer Type   Type of Travel     Class\n",
       "count        129880  129880          129880           129880    129880\n",
       "unique            2       2               2                2         3\n",
       "top       satisfied  Female  Loyal Customer  Business travel  Business\n",
       "freq          71087   65899          106100            89693     62160"
      ]
     },
     "execution_count": 9,
     "metadata": {},
     "output_type": "execute_result"
    }
   ],
   "source": [
    "df.describe(include=\"object\")"
   ]
  },
  {
   "cell_type": "markdown",
   "metadata": {},
   "source": [
    "Xét các dữ liệu object:\n",
    "\n",
    "+ Các cột đều có 2 giá trị có thể có, ngoại trừ cột Class có 3 giá trị có thể có.\n"
   ]
  },
  {
   "cell_type": "code",
   "execution_count": 10,
   "metadata": {},
   "outputs": [
    {
     "data": {
      "image/png": "[encoded data removed]",
      "text/plain": [
       "<Figure size 1080x720 with 5 Axes>"
      ]
     },
     "metadata": {
      "needs_background": "light"
     },
     "output_type": "display_data"
    }
   ],
   "source": [
    "plt.figure(figsize=(15, 10))\n",
    "plt.style.use(\"seaborn\")\n",
    "cols = [\"satisfaction\", \"Gender\", \"Customer Type\", \"Type of Travel\", \"Class\"]\n",
    "for i in range(5):\n",
    "    plt.subplot(2, 3, i + 1)\n",
    "    plt.hist(df[cols[i]])\n",
    "    plt.title(cols[i])"
   ]
  },
  {
   "cell_type": "markdown",
   "metadata": {},
   "source": [
    "+ Cột satisfication bao gồm 2 giá trị satisfied (hài lòng) và dissastified (không hài lòng)\n",
    "\n",
    "+ Cột gender cho biết giới tính của hành khách gồm Female (nữ) và Male (nam)\n",
    "\n",
    "+ Loại khách hàng bao gồm Loyal Customer (Khách hàng thân thiết) và Disloyal Customer (Khách hàng thông thường)\n",
    "\n",
    "+ Loại chuyến đi cho biết mục đích chuyến đi bao gồm Personal Travel (mục đích cá nhân) và Business Travel (mục đích công việc)\n",
    "\n",
    "+ Cột class cho biết loại dịch vụ bao gồm Eco (khoang phổ thông), Eco plus, và Business (khoang thương gia) "
   ]
  },
  {
   "cell_type": "markdown",
   "metadata": {},
   "source": [
    "#### Tiền xử lý"
   ]
  },
  {
   "cell_type": "markdown",
   "metadata": {},
   "source": [
    "Ta nhận thấy cột \"Arrival Delay in Minutes\" có các giá trị bị thiếu, để điền khuyết các thông tin này có thể có các cách sau:\n",
    "+ Điền bằng 0\n",
    "+ Điền bằng trung bình / trung vị\n",
    "\n",
    "Tuy nhiên, có thể nhận thấy thời gian trễ hạ cánh phụ thuộc nhiều vào thời gian trễ cất cánh \"Departure Delay in Minutes\", để thử nghiệm giả thuyết này, ta sẽ tính tương quan giữa hai cột này. "
   ]
  },
  {
   "cell_type": "code",
   "execution_count": 144,
   "metadata": {},
   "outputs": [
    {
     "name": "stdout",
     "output_type": "stream",
     "text": [
      "[[1.         0.96564005]\n",
      " [0.96564005 1.        ]]\n"
     ]
    },
    {
     "data": {
      "image/png": "[encoded data removed]",
      "text/plain": [
       "<Figure size 576x396 with 1 Axes>"
      ]
     },
     "metadata": {},
     "output_type": "display_data"
    }
   ],
   "source": [
    "arrive_delay        = df[\"Arrival Delay in Minutes\"]\n",
    "sel = ~arrive_delay.isna()\n",
    "\n",
    "arrive_delay_not_na    = arrive_delay[sel]\n",
    "departure_delay = df[\"Departure Delay in Minutes\"][sel]\n",
    "\n",
    "print(np.corrcoef(arrive_delay_not_na, departure_delay))\n",
    "plt.scatter(arrive_delay_not_na, departure_delay); plt.title(\"Arrive delay vs Departure delay\");"
   ]
  },
  {
   "cell_type": "markdown",
   "metadata": {},
   "source": [
    "Như vậy có tương quan lớn giữa arrive_delay và departure_delay (0.96529118), như vậy ta có thể sử dụng departure_delay để điền khuyết các giá trị arrive_delay"
   ]
  },
  {
   "cell_type": "code",
   "execution_count": 12,
   "metadata": {},
   "outputs": [
    {
     "name": "stdout",
     "output_type": "stream",
     "text": [
      "Original: \n",
      "<class 'pandas.core.frame.DataFrame'>\n",
      "RangeIndex: 129880 entries, 0 to 129879\n",
      "Data columns (total 1 columns):\n",
      " #   Column                    Non-Null Count   Dtype  \n",
      "---  ------                    --------------   -----  \n",
      " 0   Arrival Delay in Minutes  129487 non-null  float64\n",
      "dtypes: float64(1)\n",
      "memory usage: 1014.8 KB\n",
      "----------------------------------------------------------------------------------------------------\n",
      "Filling missing value: \n",
      "<class 'pandas.core.frame.DataFrame'>\n",
      "RangeIndex: 129880 entries, 0 to 129879\n",
      "Data columns (total 1 columns):\n",
      " #   Column                    Non-Null Count   Dtype  \n",
      "---  ------                    --------------   -----  \n",
      " 0   Arrival Delay in Minutes  129880 non-null  float64\n",
      "dtypes: float64(1)\n",
      "memory usage: 1014.8 KB\n"
     ]
    }
   ],
   "source": [
    "print(\"Original: \")\n",
    "df[[\"Arrival Delay in Minutes\"]].info()\n",
    "print(\"-\" * 100)\n",
    "print(\"Filling missing value: \")\n",
    "df[\"Arrival Delay in Minutes\"].fillna(value=df[\"Departure Delay in Minutes\"], inplace=True)\n",
    "df[[\"Arrival Delay in Minutes\"]].info()"
   ]
  },
  {
   "cell_type": "markdown",
   "metadata": {},
   "source": [
    "Đổi kiểu dữ liệu của \"Arrival Delay in Minutes\" thành int64"
   ]
  },
  {
   "cell_type": "code",
   "execution_count": 13,
   "metadata": {},
   "outputs": [],
   "source": [
    "df[\"Arrival Delay in Minutes\"] = df[\"Arrival Delay in Minutes\"].astype(\"int64\")"
   ]
  },
  {
   "cell_type": "code",
   "execution_count": 14,
   "metadata": {},
   "outputs": [
    {
     "name": "stdout",
     "output_type": "stream",
     "text": [
      "<class 'pandas.core.frame.DataFrame'>\n",
      "RangeIndex: 129880 entries, 0 to 129879\n",
      "Data columns (total 23 columns):\n",
      " #   Column                             Non-Null Count   Dtype \n",
      "---  ------                             --------------   ----- \n",
      " 0   satisfaction                       129880 non-null  object\n",
      " 1   Gender                             129880 non-null  object\n",
      " 2   Customer Type                      129880 non-null  object\n",
      " 3   Age                                129880 non-null  int64 \n",
      " 4   Type of Travel                     129880 non-null  object\n",
      " 5   Class                              129880 non-null  object\n",
      " 6   Flight Distance                    129880 non-null  int64 \n",
      " 7   Seat comfort                       129880 non-null  int64 \n",
      " 8   Departure/Arrival time convenient  129880 non-null  int64 \n",
      " 9   Food and drink                     129880 non-null  int64 \n",
      " 10  Gate location                      129880 non-null  int64 \n",
      " 11  Inflight wifi service              129880 non-null  int64 \n",
      " 12  Inflight entertainment             129880 non-null  int64 \n",
      " 13  Online support                     129880 non-null  int64 \n",
      " 14  Ease of Online booking             129880 non-null  int64 \n",
      " 15  On-board service                   129880 non-null  int64 \n",
      " 16  Leg room service                   129880 non-null  int64 \n",
      " 17  Baggage handling                   129880 non-null  int64 \n",
      " 18  Checkin service                    129880 non-null  int64 \n",
      " 19  Cleanliness                        129880 non-null  int64 \n",
      " 20  Online boarding                    129880 non-null  int64 \n",
      " 21  Departure Delay in Minutes         129880 non-null  int64 \n",
      " 22  Arrival Delay in Minutes           129880 non-null  int64 \n",
      "dtypes: int64(18), object(5)\n",
      "memory usage: 22.8+ MB\n"
     ]
    }
   ],
   "source": [
    "df.info()"
   ]
  },
  {
   "cell_type": "markdown",
   "metadata": {},
   "source": [
    "Để tiện tính toán trên cột satisfaction, ta sẽ tạo cột \"satisfaction_bin\" nhận giá trị nhị phân 1 - nếu khách hàng hài lòng 0 - nếu không hài lòng."
   ]
  },
  {
   "cell_type": "code",
   "execution_count": 15,
   "metadata": {},
   "outputs": [],
   "source": [
    "df[\"satisfaction_bin\"] = df[\"satisfaction\"] == \"satisfied\""
   ]
  },
  {
   "cell_type": "markdown",
   "metadata": {},
   "source": [
    "## Các câu hỏi đặt ra:\n",
    "\n",
    "1. Các hạng vé khác nhau có sự khác nhau về độ hài lòng của hành khách như thế nào ?\n",
    "\n",
    "2. Các yếu tố ảnh hưởng đến độ hài lòng đối với hành khách nam và nữ có khác gì nhau không ?"
   ]
  },
  {
   "cell_type": "markdown",
   "metadata": {},
   "source": [
    "#### 1. Loại dịch vụ (phổ thông, phổ thông nâng cao, thương gia) có sự khác nhau về độ hài lòng như thế nào ?"
   ]
  },
  {
   "cell_type": "code",
   "execution_count": 145,
   "metadata": {},
   "outputs": [
    {
     "name": "stdout",
     "output_type": "stream",
     "text": [
      "Tỉ lệ hài lòng Eco:  0.393987206091684\n",
      "Tỉ lệ hài lòng Eco Plus:  0.42705344809265755\n",
      "Tỉ lệ hài lòng Business:  0.7093790218790219\n"
     ]
    },
    {
     "data": {
      "image/png": "[encoded data removed]",
      "text/plain": [
       "<Figure size 576x396 with 1 Axes>"
      ]
     },
     "metadata": {},
     "output_type": "display_data"
    }
   ],
   "source": [
    "df_eco = df[df[\"Class\"] == \"Eco\"]\n",
    "df_eco_plus = df[df[\"Class\"] == \"Eco Plus\"]\n",
    "df_business = df[df[\"Class\"] == \"Business\"]\n",
    "\n",
    "eco_perc      = df_eco[\"satisfaction_bin\"].agg(\"mean\")\n",
    "eco_plus_perc = df_eco_plus[\"satisfaction_bin\"].agg(\"mean\")\n",
    "business_perc = df_business[\"satisfaction_bin\"].agg(\"mean\")\n",
    "\n",
    "\n",
    "\n",
    "print(\"Tỉ lệ hài lòng Eco: \",      eco_perc)\n",
    "print(\"Tỉ lệ hài lòng Eco Plus: \", eco_plus_perc)\n",
    "print(\"Tỉ lệ hài lòng Business: \", business_perc)\n",
    "plt.title(\"Phần trăm hài lòng ở các hạng vé\")\n",
    "plt.barh(y = [\"Eco\", \"Eco Plus\", \"Business\"], width = [eco_perc, eco_plus_perc, business_perc], height=0.5);"
   ]
  },
  {
   "cell_type": "markdown",
   "metadata": {},
   "source": [
    "Ta nhận thấy tỉ lệ khách hàng hài lòng ở khoang hạng thương gia cao hơn hẳn so với hai hạng còn lại, trong khi đó Eco Plus và Eco lại khá tương đồng nhau về tỉ lệ này.\n",
    "\n",
    "Điều này có thể lý giải bởi các dịch vụ ở hạng cao cấp hơn thì tốt hơn, để tìm hiểu thêm về sự khác nhau giữa các hạng vé, chúng ta sẽ xét về sự khác nhau về điểm trung bình ở các hạng mục."
   ]
  },
  {
   "cell_type": "markdown",
   "metadata": {},
   "source": [
    "#### Sự khác nhau về điểm trung bình ở các hạng mục thuộc các hạng vé khác nhau"
   ]
  },
  {
   "cell_type": "code",
   "execution_count": 17,
   "metadata": {},
   "outputs": [
    {
     "data": {
      "text/html": [
       "<div>\n",
       "<style scoped>\n",
       "    .dataframe tbody tr th:only-of-type {\n",
       "        vertical-align: middle;\n",
       "    }\n",
       "\n",
       "    .dataframe tbody tr th {\n",
       "        vertical-align: top;\n",
       "    }\n",
       "\n",
       "    .dataframe thead th {\n",
       "        text-align: right;\n",
       "    }\n",
       "</style>\n",
       "<table border=\"1\" class=\"dataframe\">\n",
       "  <thead>\n",
       "    <tr style=\"text-align: right;\">\n",
       "      <th></th>\n",
       "      <th>Seat comfort</th>\n",
       "      <th>Departure/Arrival time convenient</th>\n",
       "      <th>Food and drink</th>\n",
       "      <th>Gate location</th>\n",
       "      <th>Inflight wifi service</th>\n",
       "      <th>Inflight entertainment</th>\n",
       "      <th>Online support</th>\n",
       "      <th>Ease of Online booking</th>\n",
       "      <th>On-board service</th>\n",
       "      <th>Leg room service</th>\n",
       "      <th>Baggage handling</th>\n",
       "      <th>Checkin service</th>\n",
       "      <th>Cleanliness</th>\n",
       "      <th>Online boarding</th>\n",
       "    </tr>\n",
       "    <tr>\n",
       "      <th>Class</th>\n",
       "      <th></th>\n",
       "      <th></th>\n",
       "      <th></th>\n",
       "      <th></th>\n",
       "      <th></th>\n",
       "      <th></th>\n",
       "      <th></th>\n",
       "      <th></th>\n",
       "      <th></th>\n",
       "      <th></th>\n",
       "      <th></th>\n",
       "      <th></th>\n",
       "      <th></th>\n",
       "      <th></th>\n",
       "    </tr>\n",
       "  </thead>\n",
       "  <tbody>\n",
       "    <tr>\n",
       "      <th>Business</th>\n",
       "      <td>2.789897</td>\n",
       "      <td>2.898938</td>\n",
       "      <td>2.926770</td>\n",
       "      <td>2.985280</td>\n",
       "      <td>3.335553</td>\n",
       "      <td>3.732223</td>\n",
       "      <td>3.770866</td>\n",
       "      <td>3.653427</td>\n",
       "      <td>3.693082</td>\n",
       "      <td>3.664994</td>\n",
       "      <td>3.853620</td>\n",
       "      <td>3.526030</td>\n",
       "      <td>3.855502</td>\n",
       "      <td>3.490492</td>\n",
       "    </tr>\n",
       "    <tr>\n",
       "      <th>Eco</th>\n",
       "      <td>2.874908</td>\n",
       "      <td>3.070932</td>\n",
       "      <td>2.776964</td>\n",
       "      <td>2.996313</td>\n",
       "      <td>3.168310</td>\n",
       "      <td>3.057693</td>\n",
       "      <td>3.288823</td>\n",
       "      <td>3.305356</td>\n",
       "      <td>3.269924</td>\n",
       "      <td>3.328200</td>\n",
       "      <td>3.565539</td>\n",
       "      <td>3.186969</td>\n",
       "      <td>3.581797</td>\n",
       "      <td>3.227358</td>\n",
       "    </tr>\n",
       "    <tr>\n",
       "      <th>Eco Plus</th>\n",
       "      <td>2.935288</td>\n",
       "      <td>3.098927</td>\n",
       "      <td>2.822973</td>\n",
       "      <td>2.987887</td>\n",
       "      <td>3.179046</td>\n",
       "      <td>3.098502</td>\n",
       "      <td>3.291255</td>\n",
       "      <td>3.307619</td>\n",
       "      <td>3.168207</td>\n",
       "      <td>3.280098</td>\n",
       "      <td>3.458719</td>\n",
       "      <td>3.070556</td>\n",
       "      <td>3.484752</td>\n",
       "      <td>3.217618</td>\n",
       "    </tr>\n",
       "  </tbody>\n",
       "</table>\n",
       "</div>"
      ],
      "text/plain": [
       "          Seat comfort  Departure/Arrival time convenient  Food and drink  \\\n",
       "Class                                                                       \n",
       "Business      2.789897                           2.898938        2.926770   \n",
       "Eco           2.874908                           3.070932        2.776964   \n",
       "Eco Plus      2.935288                           3.098927        2.822973   \n",
       "\n",
       "          Gate location  Inflight wifi service  Inflight entertainment  \\\n",
       "Class                                                                    \n",
       "Business       2.985280               3.335553                3.732223   \n",
       "Eco            2.996313               3.168310                3.057693   \n",
       "Eco Plus       2.987887               3.179046                3.098502   \n",
       "\n",
       "          Online support  Ease of Online booking  On-board service  \\\n",
       "Class                                                                \n",
       "Business        3.770866                3.653427          3.693082   \n",
       "Eco             3.288823                3.305356          3.269924   \n",
       "Eco Plus        3.291255                3.307619          3.168207   \n",
       "\n",
       "          Leg room service  Baggage handling  Checkin service  Cleanliness  \\\n",
       "Class                                                                        \n",
       "Business          3.664994          3.853620         3.526030     3.855502   \n",
       "Eco               3.328200          3.565539         3.186969     3.581797   \n",
       "Eco Plus          3.280098          3.458719         3.070556     3.484752   \n",
       "\n",
       "          Online boarding  \n",
       "Class                      \n",
       "Business         3.490492  \n",
       "Eco              3.227358  \n",
       "Eco Plus         3.217618  "
      ]
     },
     "execution_count": 17,
     "metadata": {},
     "output_type": "execute_result"
    }
   ],
   "source": [
    "#Danh sách các điểm đánh giá\n",
    "cols = df.loc[:, \"Seat comfort\":\"Online boarding\"].columns.to_list()\n",
    "#Lấy ra dataframe gồm Class và các điểm\n",
    "df_rates_by_class = df[[\"Class\"] + cols]\n",
    "#Tính trung bình\n",
    "df_mean_rates     = df_rates_by_class.groupby(\"Class\").agg(\"mean\")\n",
    "df_mean_rates"
   ]
  },
  {
   "cell_type": "code",
   "execution_count": 18,
   "metadata": {},
   "outputs": [
    {
     "data": {
      "image/png": "[encoded data removed]",
      "text/plain": [
       "<Figure size 360x720 with 3 Axes>"
      ]
     },
     "metadata": {},
     "output_type": "display_data"
    }
   ],
   "source": [
    "#Tính sai khác các điểm trung bình\n",
    "bsn_eco_diff  = df_mean_rates.loc[\"Business\"] - df_mean_rates.loc[\"Eco\"]\n",
    "bsn_ecop_diff = df_mean_rates.loc[\"Business\"] - df_mean_rates.loc[\"Eco Plus\"]\n",
    "ecop_eco_diff = df_mean_rates.loc[\"Eco Plus\"] - df_mean_rates.loc[\"Eco\"]\n",
    "\n",
    "plt.figure(figsize=(5, 10))\n",
    "\n",
    "plt.subplot(3, 1, 1)\n",
    "plt.barh(y=df_mean_rates.columns.to_list(), width=bsn_eco_diff, color=\"b\"); plt.xlim(-1, 1); plt.title(\"Business vs Eco\")\n",
    "\n",
    "plt.subplot(3, 1, 2)\n",
    "plt.barh(y=df_mean_rates.columns.to_list(), width=bsn_ecop_diff, color=\"b\"); plt.xlim(-1, 1); plt.title(\"Business vs Eco\")\n",
    "\n",
    "plt.subplot(3, 1, 3)\n",
    "plt.barh(y=df_mean_rates.columns.to_list(), width=ecop_eco_diff, color=\"b\"); plt.xlim(-1, 1); plt.title(\"Eco Plus vs Eco\");"
   ]
  },
  {
   "cell_type": "markdown",
   "metadata": {},
   "source": [
    "+ Hạng thương gia (business) được đánh giá cao hơn ở hầu hết các hạng mục, trong đó cách biệt lớn nhất đến từ hạng mục \"Giải trí trên chuyến bay\" (Inflight Entertainment), ngạc nhiên là hạng thương gia lại bị đánh giá thấp hơn ở hạng mục \"mức độ thoải mái ghế ngồi\" (Seat comfort). \n",
    "\n",
    "+ Trong khi đó hạng phổ thông (Eco) và phổ thông nâng cao (Eco Plus) lại có sự khác biệt tương đối ít, điều này phụ hợp khi tỉ lệ hài lòng ở hai hạng này tương tự nhau."
   ]
  },
  {
   "cell_type": "markdown",
   "metadata": {},
   "source": [
    "#### 2. Các yếu tố ảnh hưởng đến độ hài lòng đối với hành khách nam và nữ có khác gì nhau không ?"
   ]
  },
  {
   "cell_type": "code",
   "execution_count": 19,
   "metadata": {},
   "outputs": [],
   "source": [
    "df_male   = df[df[\"Gender\"] == \"Male\"]\n",
    "df_female = df[df[\"Gender\"] == \"Female\"]"
   ]
  },
  {
   "cell_type": "code",
   "execution_count": 20,
   "metadata": {},
   "outputs": [],
   "source": [
    "#Lấy tương quan giữa satisfaction_bin và các cột số, bỏ cột tương quan satisfaction và chính nó (= 1)\n",
    "factor_male = df_male.corr()[[\"satisfaction_bin\"]].drop(\"satisfaction_bin\", axis=0)\n",
    "factor_female = df_female.corr()[[\"satisfaction_bin\"]].drop(\"satisfaction_bin\", axis=0)\n",
    "\n",
    "#Đổi tên cột để join thành 1 dataframe\n",
    "A = factor_male.rename({\"satisfaction_bin\" : \"Male corr\"}, axis=1)\n",
    "B = factor_female.rename({\"satisfaction_bin\" : \"Female corr\"}, axis=1)\n",
    "\n",
    "C = A.join(B)"
   ]
  },
  {
   "cell_type": "code",
   "execution_count": 146,
   "metadata": {},
   "outputs": [
    {
     "data": {
      "image/png": "[encoded data removed]",
      "text/plain": [
       "<Figure size 936x576 with 1 Axes>"
      ]
     },
     "metadata": {},
     "output_type": "display_data"
    }
   ],
   "source": [
    "plt.figure(figsize=(13, 8))\n",
    "\n",
    "ax = plt.gca()\n",
    "plt.title(\"Tương quan giữa độ hài lòng và các hạng mục, chia theo giởi tính.\")\n",
    "C.plot.barh(ax=ax)\n",
    "plt.axvline(x= 0.1)\n",
    "plt.axvline(x=-0.1);"
   ]
  },
  {
   "cell_type": "markdown",
   "metadata": {},
   "source": [
    "Xét các yếu tố có tương quan có trị tuyệt đối lớn hơn 0.1.\n",
    "\n",
    "+ Ta thấy yếu tố ảnh hưởng hàng đầu đối với hành khách nam là \"dịch vụ giải trí trên chuyến bay\" trong khi đối với hành khách nữ là \"độ dễ dàng đặt vé qua mạng\".\n",
    "\n",
    "+ Các hành khách nữ quan tâm đến các yếu tố \"Độ sạch sẽ\", \"Dịch vụ checking\", \"Hỗ trợ khuân vác hành lý\" và \"Chỗ ngồi có thể duỗi chân\" (Leg room service: https://www.rung.vn/dict/en_vn/Legroom) hơn hẳn các hành khách nam, bên cạnh đó việc trễ/hoãn chuyến bay cũng làm giảm mức độ hài lòng của hành khách nữ rõ rệt hơn ở hành khách nam.\n",
    "\n",
    "+ Trong khi đó, các hành khách nam quan tâm hơn ở các hạng mục như \"dịch vụ giải trí\", \"đồ ăn/uống\", \"Độ thoải mái ghế ngồi\" và \"Wifi\"."
   ]
  },
  {
   "cell_type": "markdown",
   "metadata": {},
   "source": [
    "#### 3. Các chuyến bay khoảng cách khác nhau có độ hài lòng như thế nào ? phụ thuộc vào các yếu tố gì ?"
   ]
  },
  {
   "cell_type": "markdown",
   "metadata": {},
   "source": [
    "Chia quãng đường bay ra thành các mốc dựa theo chuẩn của Eurocontrol: https://en.wikipedia.org/wiki/Flight_length"
   ]
  },
  {
   "cell_type": "code",
   "execution_count": 135,
   "metadata": {},
   "outputs": [
    {
     "name": "stdout",
     "output_type": "stream",
     "text": [
      "0          short\n",
      "1         medium\n",
      "2         medium\n",
      "3          short\n",
      "4          short\n",
      "           ...  \n",
      "129875    medium\n",
      "129876    medium\n",
      "129877    medium\n",
      "129878    medium\n",
      "129879      long\n",
      "Name: Range, Length: 129880, dtype: category\n",
      "Categories (3, object): ['short' < 'medium' < 'long']\n"
     ]
    },
    {
     "data": {
      "text/html": [
       "<div>\n",
       "<style scoped>\n",
       "    .dataframe tbody tr th:only-of-type {\n",
       "        vertical-align: middle;\n",
       "    }\n",
       "\n",
       "    .dataframe tbody tr th {\n",
       "        vertical-align: top;\n",
       "    }\n",
       "\n",
       "    .dataframe thead th {\n",
       "        text-align: right;\n",
       "    }\n",
       "</style>\n",
       "<table border=\"1\" class=\"dataframe\">\n",
       "  <thead>\n",
       "    <tr style=\"text-align: right;\">\n",
       "      <th></th>\n",
       "      <th>satisfaction</th>\n",
       "      <th>Gender</th>\n",
       "      <th>Customer Type</th>\n",
       "      <th>Age</th>\n",
       "      <th>Type of Travel</th>\n",
       "      <th>Class</th>\n",
       "      <th>Flight Distance</th>\n",
       "      <th>Seat comfort</th>\n",
       "      <th>Departure/Arrival time convenient</th>\n",
       "      <th>Food and drink</th>\n",
       "      <th>...</th>\n",
       "      <th>On-board service</th>\n",
       "      <th>Leg room service</th>\n",
       "      <th>Baggage handling</th>\n",
       "      <th>Checkin service</th>\n",
       "      <th>Cleanliness</th>\n",
       "      <th>Online boarding</th>\n",
       "      <th>Departure Delay in Minutes</th>\n",
       "      <th>Arrival Delay in Minutes</th>\n",
       "      <th>satisfaction_bin</th>\n",
       "      <th>Range</th>\n",
       "    </tr>\n",
       "  </thead>\n",
       "  <tbody>\n",
       "    <tr>\n",
       "      <th>0</th>\n",
       "      <td>satisfied</td>\n",
       "      <td>Female</td>\n",
       "      <td>Loyal Customer</td>\n",
       "      <td>65</td>\n",
       "      <td>Personal Travel</td>\n",
       "      <td>Eco</td>\n",
       "      <td>265</td>\n",
       "      <td>0</td>\n",
       "      <td>0</td>\n",
       "      <td>0</td>\n",
       "      <td>...</td>\n",
       "      <td>3</td>\n",
       "      <td>0</td>\n",
       "      <td>3</td>\n",
       "      <td>5</td>\n",
       "      <td>3</td>\n",
       "      <td>2</td>\n",
       "      <td>0</td>\n",
       "      <td>0</td>\n",
       "      <td>True</td>\n",
       "      <td>short</td>\n",
       "    </tr>\n",
       "    <tr>\n",
       "      <th>1</th>\n",
       "      <td>satisfied</td>\n",
       "      <td>Male</td>\n",
       "      <td>Loyal Customer</td>\n",
       "      <td>47</td>\n",
       "      <td>Personal Travel</td>\n",
       "      <td>Business</td>\n",
       "      <td>2464</td>\n",
       "      <td>0</td>\n",
       "      <td>0</td>\n",
       "      <td>0</td>\n",
       "      <td>...</td>\n",
       "      <td>4</td>\n",
       "      <td>4</td>\n",
       "      <td>4</td>\n",
       "      <td>2</td>\n",
       "      <td>3</td>\n",
       "      <td>2</td>\n",
       "      <td>310</td>\n",
       "      <td>305</td>\n",
       "      <td>True</td>\n",
       "      <td>medium</td>\n",
       "    </tr>\n",
       "    <tr>\n",
       "      <th>2</th>\n",
       "      <td>satisfied</td>\n",
       "      <td>Female</td>\n",
       "      <td>Loyal Customer</td>\n",
       "      <td>15</td>\n",
       "      <td>Personal Travel</td>\n",
       "      <td>Eco</td>\n",
       "      <td>2138</td>\n",
       "      <td>0</td>\n",
       "      <td>0</td>\n",
       "      <td>0</td>\n",
       "      <td>...</td>\n",
       "      <td>3</td>\n",
       "      <td>3</td>\n",
       "      <td>4</td>\n",
       "      <td>4</td>\n",
       "      <td>4</td>\n",
       "      <td>2</td>\n",
       "      <td>0</td>\n",
       "      <td>0</td>\n",
       "      <td>True</td>\n",
       "      <td>medium</td>\n",
       "    </tr>\n",
       "  </tbody>\n",
       "</table>\n",
       "<p>3 rows × 25 columns</p>\n",
       "</div>"
      ],
      "text/plain": [
       "  satisfaction  Gender   Customer Type  Age   Type of Travel     Class  \\\n",
       "0    satisfied  Female  Loyal Customer   65  Personal Travel       Eco   \n",
       "1    satisfied    Male  Loyal Customer   47  Personal Travel  Business   \n",
       "2    satisfied  Female  Loyal Customer   15  Personal Travel       Eco   \n",
       "\n",
       "   Flight Distance  Seat comfort  Departure/Arrival time convenient  \\\n",
       "0              265             0                                  0   \n",
       "1             2464             0                                  0   \n",
       "2             2138             0                                  0   \n",
       "\n",
       "   Food and drink  ...  On-board service  Leg room service  Baggage handling  \\\n",
       "0               0  ...                 3                 0                 3   \n",
       "1               0  ...                 4                 4                 4   \n",
       "2               0  ...                 3                 3                 4   \n",
       "\n",
       "   Checkin service  Cleanliness  Online boarding  Departure Delay in Minutes  \\\n",
       "0                5            3                2                           0   \n",
       "1                2            3                2                         310   \n",
       "2                4            4                2                           0   \n",
       "\n",
       "   Arrival Delay in Minutes  satisfaction_bin   Range  \n",
       "0                         0              True   short  \n",
       "1                       305              True  medium  \n",
       "2                         0              True  medium  \n",
       "\n",
       "[3 rows x 25 columns]"
      ]
     },
     "execution_count": 135,
     "metadata": {},
     "output_type": "execute_result"
    }
   ],
   "source": [
    "flight_range = pd.cut(df[\"Flight Distance\"], bins=[0, 1500, 4000, df[\"Flight Distance\"].max()], labels=[\"short\", \"medium\", \"long\"])\n",
    "flight_range.name = \"Range\"\n",
    "print(flight_range)\n",
    "\n",
    "df_with_range= pd.concat([df, flight_range], axis=1)\n",
    "df_with_range.head(3)"
   ]
  },
  {
   "cell_type": "code",
   "execution_count": 141,
   "metadata": {},
   "outputs": [
    {
     "data": {
      "image/png": "[encoded data removed]",
      "text/plain": [
       "<Figure size 576x396 with 1 Axes>"
      ]
     },
     "metadata": {},
     "output_type": "display_data"
    }
   ],
   "source": [
    "plt.title(\"Số lượng ở mỗi loại\")\n",
    "\n",
    "plt.hist(df_with_range[\"Range\"], );"
   ]
  },
  {
   "cell_type": "code",
   "execution_count": 137,
   "metadata": {},
   "outputs": [],
   "source": [
    "df_short   = df_with_range[df_with_range[\"Range\"] == \"short\"]\n",
    "df_medium  = df_with_range[df_with_range[\"Range\"] == \"medium\"]\n",
    "df_long    = df_with_range[df_with_range[\"Range\"] == \"long\"]"
   ]
  },
  {
   "cell_type": "code",
   "execution_count": 138,
   "metadata": {},
   "outputs": [],
   "source": [
    "#Lấy tương quan giữa satisfaction_bin và các cột số, bỏ cột tương quan satisfaction và chính nó (= 1)\n",
    "A = df_short.corr()[[\"satisfaction_bin\"]].drop(\"satisfaction_bin\", axis=0)\n",
    "B = df_medium.corr()[[\"satisfaction_bin\"]].drop(\"satisfaction_bin\", axis=0)\n",
    "C = df_long.corr()[[\"satisfaction_bin\"]].drop(\"satisfaction_bin\", axis=0)\n",
    "\n",
    "#Đổi tên cột để join thành 1 dataframe\n",
    "A = A.rename({\"satisfaction_bin\"   : \"Short corr\"}, axis=1)\n",
    "B = B.rename({\"satisfaction_bin\" : \"Medium corr\"}, axis=1)\n",
    "C = C.rename({\"satisfaction_bin\" : \"Long corr\"}, axis=1)\n",
    "\n",
    "D = A.join(B).join(C)"
   ]
  },
  {
   "cell_type": "code",
   "execution_count": 147,
   "metadata": {},
   "outputs": [
    {
     "data": {
      "text/plain": [
       "<matplotlib.axes._subplots.AxesSubplot at 0x1f294524f88>"
      ]
     },
     "execution_count": 147,
     "metadata": {},
     "output_type": "execute_result"
    },
    {
     "data": {
      "image/png": "[encoded data removed]",
      "text/plain": [
       "<Figure size 936x576 with 1 Axes>"
      ]
     },
     "metadata": {},
     "output_type": "display_data"
    }
   ],
   "source": [
    "plt.figure(figsize=(13, 8))\n",
    "plt.title(\"Tương quan giữa độ hài lòng và các hạng mục, chia theo khoảng cách bay.\")\n",
    "\n",
    "ax = plt.gca()\n",
    "D.plot.barh(ax=ax)"
   ]
  },
  {
   "cell_type": "markdown",
   "metadata": {},
   "source": [
    "Nhận xét:\n",
    "\n",
    "+ Ở các chuyến bay đường dài, các dịch vụ online và liên quan đến giải trí, phục vụ trên chuyến bay trở nên quan trọng hơn.\n",
    "\n",
    "+ Ở các chuyến bay gần, các công đoạn ở sân bay như khuân hành lý, checkin trở nên quan trọng hơn.\n",
    "\n",
    "+ Ở cột Age, ta thấy ở các chuyến bay ngắn, những hành khách lớn tuổi thường có độ hài lòng cao hơn ở các chuyến bay dài."
   ]
  }
 ],
 "metadata": {
  "kernelspec": {
   "display_name": "Python 3",
   "language": "python",
   "name": "python3"
  },
  "language_info": {
   "codemirror_mode": {
    "name": "ipython",
    "version": 3
   },
   "file_extension": ".py",
   "mimetype": "text/x-python",
   "name": "python",
   "nbconvert_exporter": "python",
   "pygments_lexer": "ipython3",
   "version": "3.7.7"
  }
 },
 "nbformat": 4,
 "nbformat_minor": 4
}
